{
 "cells": [
  {
   "cell_type": "code",
   "execution_count": 1,
   "metadata": {
    "collapsed": true
   },
   "outputs": [],
   "source": [
    "a,b=1232,323"
   ]
  },
  {
   "cell_type": "code",
   "execution_count": 3,
   "metadata": {
    "collapsed": false
   },
   "outputs": [
    {
     "data": {
      "text/plain": [
       "(True, True, True, True)"
      ]
     },
     "execution_count": 3,
     "metadata": {},
     "output_type": "execute_result"
    }
   ],
   "source": [
    "1232==323*3+263, \\\n",
    "323 ==263*1+60, \\\n",
    "263 ==60*4+23, \\\n",
    "60  ==23*2+14,"
   ]
  },
  {
   "cell_type": "code",
   "execution_count": 5,
   "metadata": {
    "collapsed": false
   },
   "outputs": [
    {
     "data": {
      "text/plain": [
       "'napraviti generator ostataka'"
      ]
     },
     "execution_count": 5,
     "metadata": {},
     "output_type": "execute_result"
    }
   ],
   "source": [
    " a,b,263, 60, 23, 14, ...\n",
    "'''napraviti generator ostataka'''"
   ]
  },
  {
   "cell_type": "code",
   "execution_count": 7,
   "metadata": {
    "collapsed": false
   },
   "outputs": [
    {
     "ename": "SyntaxError",
     "evalue": "invalid syntax (<ipython-input-7-edb1a043742c>, line 1)",
     "output_type": "error",
     "traceback": [
      "\u001b[1;36m  File \u001b[1;32m\"<ipython-input-7-edb1a043742c>\"\u001b[1;36m, line \u001b[1;32m1\u001b[0m\n\u001b[1;33m    ostaci(1232,323)->1232,323,263,60,23,12,...\u001b[0m\n\u001b[1;37m                     ^\u001b[0m\n\u001b[1;31mSyntaxError\u001b[0m\u001b[1;31m:\u001b[0m invalid syntax\n"
     ]
    }
   ],
   "source": [
    "ostaci(1232,323)->1232,323,263,60,23,12,...\n",
    "kvocjenti(1232,323)->3,1,4,2"
   ]
  },
  {
   "cell_type": "code",
   "execution_count": 1,
   "metadata": {
    "collapsed": false
   },
   "outputs": [
    {
     "data": {
      "text/plain": [
       "263"
      ]
     },
     "execution_count": 1,
     "metadata": {},
     "output_type": "execute_result"
    }
   ],
   "source": [
    "1232%323"
   ]
  },
  {
   "cell_type": "code",
   "execution_count": 17,
   "metadata": {
    "collapsed": false
   },
   "outputs": [
    {
     "name": "stdout",
     "output_type": "stream",
     "text": [
      "Ostaci:\n",
      "-------\n",
      "1232\n",
      "323\n",
      "263\n",
      "60\n",
      "23\n",
      "14\n",
      "9\n",
      "5\n",
      "4\n",
      "1\n",
      "Kvocjenti:\n",
      "----------\n",
      "3\n",
      "1\n",
      "4\n",
      "2\n",
      "1\n",
      "1\n",
      "1\n",
      "1\n",
      "4\n"
     ]
    }
   ],
   "source": [
    "def ostaci(a,b):\n",
    "    while b>0:\n",
    "        yield a\n",
    "        a,b=b,a%b\n",
    "    yield a\n",
    "def kvocjenti(a,b):\n",
    "    while b>0:\n",
    "        yield a//b\n",
    "        a,b=b,a%b\n",
    "\n",
    "print(\"Ostaci:\\n-------\")\n",
    "Lo=ostaci(1232,323)\n",
    "for x in Lo:\n",
    "    print(x)\n",
    "print(\"Kvocjenti:\\n----------\")\n",
    "Lk=kvocjenti(1232,323)\n",
    "for x in Lk:\n",
    "    print(x)"
   ]
  }
 ],
 "metadata": {
  "kernelspec": {
   "display_name": "Python 3",
   "language": "python",
   "name": "python3"
  },
  "language_info": {
   "codemirror_mode": {
    "name": "ipython",
    "version": 3
   },
   "file_extension": ".py",
   "mimetype": "text/x-python",
   "name": "python",
   "nbconvert_exporter": "python",
   "pygments_lexer": "ipython3",
   "version": "3.4.0"
  }
 },
 "nbformat": 4,
 "nbformat_minor": 0
}
