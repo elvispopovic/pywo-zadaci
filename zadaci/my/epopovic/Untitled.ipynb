{
 "cells": [
  {
   "cell_type": "code",
   "execution_count": 2,
   "metadata": {
    "collapsed": false
   },
   "outputs": [],
   "source": [
    "import ravnina\n",
    "from ravnina import *\n",
    "# ravnina je file koji smo mi napravili\n",
    "\n"
   ]
  },
  {
   "cell_type": "code",
   "execution_count": 6,
   "metadata": {
    "collapsed": false
   },
   "outputs": [
    {
     "name": "stdout",
     "output_type": "stream",
     "text": [
      "Variable   Type                          Data/Info\n",
      "--------------------------------------------------\n",
      "Tocka      type                          <class 'ravnina.Tocka'>\n",
      "ravnina    module                        <module 'ravnina' from '/<...>/my/epopovic/ravnina.py'>\n",
      "sqrt       builtin_function_or_method    <built-in function sqrt>\n"
     ]
    }
   ],
   "source": [
    "ravnina.Tocka\n",
    "%whos"
   ]
  }
 ],
 "metadata": {
  "kernelspec": {
   "display_name": "Python 3",
   "language": "python",
   "name": "python3"
  },
  "language_info": {
   "codemirror_mode": {
    "name": "ipython",
    "version": 3
   },
   "file_extension": ".py",
   "mimetype": "text/x-python",
   "name": "python",
   "nbconvert_exporter": "python",
   "pygments_lexer": "ipython3",
   "version": "3.4.0"
  }
 },
 "nbformat": 4,
 "nbformat_minor": 0
}
