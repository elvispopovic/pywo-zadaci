{
 "cells": [
  {
   "cell_type": "code",
   "execution_count": 31,
   "metadata": {
    "collapsed": false
   },
   "outputs": [
    {
     "name": "stdout",
     "output_type": "stream",
     "text": [
      "24  permutacija\n"
     ]
    },
    {
     "data": {
      "text/plain": [
       "[{0, 1, 2, 3},\n",
       " {0, 1, 2, 3},\n",
       " {0, 1, 2, 3},\n",
       " {0, 1, 2, 3},\n",
       " {0, 1, 2, 3},\n",
       " {0, 1, 2, 3},\n",
       " {0, 1, 2, 3},\n",
       " {0, 1, 2, 3},\n",
       " {0, 1, 2, 3},\n",
       " {0, 1, 2, 3},\n",
       " {0, 1, 2, 3},\n",
       " {0, 1, 2, 3},\n",
       " {0, 1, 2, 3},\n",
       " {0, 1, 2, 3},\n",
       " {0, 1, 2, 3},\n",
       " {0, 1, 2, 3},\n",
       " {0, 1, 2, 3},\n",
       " {0, 1, 2, 3},\n",
       " {0, 1, 2, 3},\n",
       " {0, 1, 2, 3},\n",
       " {0, 1, 2, 3},\n",
       " {0, 1, 2, 3},\n",
       " {0, 1, 2, 3},\n",
       " {0, 1, 2, 3}]"
      ]
     },
     "execution_count": 31,
     "metadata": {},
     "output_type": "execute_result"
    }
   ],
   "source": [
    "#ispisati permutacije četveročlanog skupa\n",
    "def perm_gen():\n",
    "    count=0\n",
    "    '''Generator za 4 permutacije'''\n",
    "    L=[{1,2,3,4}]\n",
    "    for l in range(0,4):\n",
    "        for k in range(0,4):\n",
    "            for j in range(0,4):\n",
    "                for i in range(0,4):\n",
    "                    S={l,k,j,i}\n",
    "                    if len(S)==4:\n",
    "                        yield S\n",
    "                        count+=1\n",
    "    print(count,\" permutacija\")\n",
    "\n",
    "[x for x in perm_gen()]\n",
    "\n",
    "\n",
    "                "
   ]
  },
  {
   "cell_type": "code",
   "execution_count": 32,
   "metadata": {
    "collapsed": false
   },
   "outputs": [
    {
     "ename": "SyntaxError",
     "evalue": "'yield' outside function (<ipython-input-32-86097bf65c69>, line 4)",
     "output_type": "error",
     "traceback": [
      "\u001b[1;36m  File \u001b[1;32m\"<ipython-input-32-86097bf65c69>\"\u001b[1;36m, line \u001b[1;32m4\u001b[0m\n\u001b[1;33m    yield p\u001b[0m\n\u001b[1;37m    ^\u001b[0m\n\u001b[1;31mSyntaxError\u001b[0m\u001b[1;31m:\u001b[0m 'yield' outside function\n"
     ]
    }
   ],
   "source": [
    "import itertools\n",
    "\n",
    "def itertools_perm_generator\n",
    "\n",
    "for p in itertools.permutations(\"1234\"):\n",
    "    yield p\n",
    "\n",
    "yield from itertools.permutations(\"1234\")\n",
    "    \n",
    "    "
   ]
  },
  {
   "cell_type": "code",
   "execution_count": null,
   "metadata": {
    "collapsed": true
   },
   "outputs": [],
   "source": []
  }
 ],
 "metadata": {
  "kernelspec": {
   "display_name": "Python 3",
   "language": "python",
   "name": "python3"
  },
  "language_info": {
   "codemirror_mode": {
    "name": "ipython",
    "version": 3
   },
   "file_extension": ".py",
   "mimetype": "text/x-python",
   "name": "python",
   "nbconvert_exporter": "python",
   "pygments_lexer": "ipython3",
   "version": "3.4.0"
  }
 },
 "nbformat": 4,
 "nbformat_minor": 0
}
