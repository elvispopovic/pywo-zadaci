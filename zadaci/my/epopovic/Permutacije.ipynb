{
 "cells": [
  {
   "cell_type": "markdown",
   "metadata": {},
   "source": [
    "# Permutacije skupa od 4 elementa"
   ]
  },
  {
   "cell_type": "code",
   "execution_count": 38,
   "metadata": {
    "collapsed": false
   },
   "outputs": [
    {
     "name": "stdout",
     "output_type": "stream",
     "text": [
      "24  permutacija\n"
     ]
    },
    {
     "data": {
      "text/plain": [
       "[[1, 2, 3, 5],\n",
       " [1, 2, 5, 3],\n",
       " [1, 3, 2, 5],\n",
       " [1, 3, 5, 2],\n",
       " [1, 5, 2, 3],\n",
       " [1, 5, 3, 2],\n",
       " [2, 1, 3, 5],\n",
       " [2, 1, 5, 3],\n",
       " [2, 3, 1, 5],\n",
       " [2, 3, 5, 1],\n",
       " [2, 5, 1, 3],\n",
       " [2, 5, 3, 1],\n",
       " [3, 1, 2, 5],\n",
       " [3, 1, 5, 2],\n",
       " [3, 2, 1, 5],\n",
       " [3, 2, 5, 1],\n",
       " [3, 5, 1, 2],\n",
       " [3, 5, 2, 1],\n",
       " [5, 1, 2, 3],\n",
       " [5, 1, 3, 2],\n",
       " [5, 2, 1, 3],\n",
       " [5, 2, 3, 1],\n",
       " [5, 3, 1, 2],\n",
       " [5, 3, 2, 1]]"
      ]
     },
     "execution_count": 38,
     "metadata": {},
     "output_type": "execute_result"
    }
   ],
   "source": [
    "#ispisati permutacije četveročlanog skupa\n",
    "def perm_gen(*argumenti):\n",
    "    count=0\n",
    "    '''Generator za 4 permutacije'''\n",
    "    for l in range(0,4):\n",
    "        for k in range(0,4):\n",
    "            for j in range(0,4):\n",
    "                for i in range(0,4):\n",
    "                    S={argumenti[l],argumenti[k],argumenti[j],argumenti[i]}\n",
    "                    if len(S)==4:\n",
    "                        yield [argumenti[l],argumenti[k],argumenti[j],argumenti[i]]\n",
    "                        count+=1\n",
    "    print(count,\" permutacija\")\n",
    "\n",
    "[x for x in perm_gen(1,2,3,5)]\n",
    "\n",
    "\n",
    "                "
   ]
  },
  {
   "cell_type": "code",
   "execution_count": 19,
   "metadata": {
    "collapsed": false
   },
   "outputs": [
    {
     "data": {
      "text/plain": [
       "[2, 3, 4, 2]"
      ]
     },
     "execution_count": 19,
     "metadata": {},
     "output_type": "execute_result"
    }
   ],
   "source": [
    "L=[2,3,4]\n",
    "L=L+[2]\n",
    "L\n"
   ]
  },
  {
   "cell_type": "markdown",
   "metadata": {},
   "source": [
    "# Moje vlastite rekurzivne permutacije - bilo koji broj elemenata"
   ]
  },
  {
   "cell_type": "code",
   "execution_count": 165,
   "metadata": {
    "collapsed": false
   },
   "outputs": [
    {
     "name": "stdout",
     "output_type": "stream",
     "text": [
      "[1, 7, 5, 8, 11]\n",
      "[1, 7, 5, 11, 8]\n",
      "[1, 7, 8, 5, 11]\n",
      "[1, 7, 8, 11, 5]\n",
      "[1, 7, 11, 5, 8]\n",
      "[1, 7, 11, 8, 5]\n",
      "[1, 5, 7, 8, 11]\n",
      "[1, 5, 7, 11, 8]\n",
      "[1, 5, 8, 7, 11]\n",
      "[1, 5, 8, 11, 7]\n",
      "[1, 5, 11, 7, 8]\n",
      "[1, 5, 11, 8, 7]\n",
      "[1, 8, 7, 5, 11]\n",
      "[1, 8, 7, 11, 5]\n",
      "[1, 8, 5, 7, 11]\n",
      "[1, 8, 5, 11, 7]\n",
      "[1, 8, 11, 7, 5]\n",
      "[1, 8, 11, 5, 7]\n",
      "[1, 11, 7, 5, 8]\n",
      "[1, 11, 7, 8, 5]\n",
      "[1, 11, 5, 7, 8]\n",
      "[1, 11, 5, 8, 7]\n",
      "[1, 11, 8, 7, 5]\n",
      "[1, 11, 8, 5, 7]\n",
      "[7, 1, 5, 8, 11]\n",
      "[7, 1, 5, 11, 8]\n",
      "[7, 1, 8, 5, 11]\n",
      "[7, 1, 8, 11, 5]\n",
      "[7, 1, 11, 5, 8]\n",
      "[7, 1, 11, 8, 5]\n",
      "[7, 5, 1, 8, 11]\n",
      "[7, 5, 1, 11, 8]\n",
      "[7, 5, 8, 1, 11]\n",
      "[7, 5, 8, 11, 1]\n",
      "[7, 5, 11, 1, 8]\n",
      "[7, 5, 11, 8, 1]\n",
      "[7, 8, 1, 5, 11]\n",
      "[7, 8, 1, 11, 5]\n",
      "[7, 8, 5, 1, 11]\n",
      "[7, 8, 5, 11, 1]\n",
      "[7, 8, 11, 1, 5]\n",
      "[7, 8, 11, 5, 1]\n",
      "[7, 11, 1, 5, 8]\n",
      "[7, 11, 1, 8, 5]\n",
      "[7, 11, 5, 1, 8]\n",
      "[7, 11, 5, 8, 1]\n",
      "[7, 11, 8, 1, 5]\n",
      "[7, 11, 8, 5, 1]\n",
      "[5, 1, 7, 8, 11]\n",
      "[5, 1, 7, 11, 8]\n",
      "[5, 1, 8, 7, 11]\n",
      "[5, 1, 8, 11, 7]\n",
      "[5, 1, 11, 7, 8]\n",
      "[5, 1, 11, 8, 7]\n",
      "[5, 7, 1, 8, 11]\n",
      "[5, 7, 1, 11, 8]\n",
      "[5, 7, 8, 1, 11]\n",
      "[5, 7, 8, 11, 1]\n",
      "[5, 7, 11, 1, 8]\n",
      "[5, 7, 11, 8, 1]\n",
      "[5, 8, 1, 7, 11]\n",
      "[5, 8, 1, 11, 7]\n",
      "[5, 8, 7, 1, 11]\n",
      "[5, 8, 7, 11, 1]\n",
      "[5, 8, 11, 1, 7]\n",
      "[5, 8, 11, 7, 1]\n",
      "[5, 11, 1, 7, 8]\n",
      "[5, 11, 1, 8, 7]\n",
      "[5, 11, 7, 1, 8]\n",
      "[5, 11, 7, 8, 1]\n",
      "[5, 11, 8, 1, 7]\n",
      "[5, 11, 8, 7, 1]\n",
      "[8, 1, 7, 5, 11]\n",
      "[8, 1, 7, 11, 5]\n",
      "[8, 1, 5, 7, 11]\n",
      "[8, 1, 5, 11, 7]\n",
      "[8, 1, 11, 7, 5]\n",
      "[8, 1, 11, 5, 7]\n",
      "[8, 7, 1, 5, 11]\n",
      "[8, 7, 1, 11, 5]\n",
      "[8, 7, 5, 1, 11]\n",
      "[8, 7, 5, 11, 1]\n",
      "[8, 7, 11, 1, 5]\n",
      "[8, 7, 11, 5, 1]\n",
      "[8, 5, 1, 7, 11]\n",
      "[8, 5, 1, 11, 7]\n",
      "[8, 5, 7, 1, 11]\n",
      "[8, 5, 7, 11, 1]\n",
      "[8, 5, 11, 1, 7]\n",
      "[8, 5, 11, 7, 1]\n",
      "[8, 11, 1, 7, 5]\n",
      "[8, 11, 1, 5, 7]\n",
      "[8, 11, 7, 1, 5]\n",
      "[8, 11, 7, 5, 1]\n",
      "[8, 11, 5, 1, 7]\n",
      "[8, 11, 5, 7, 1]\n",
      "[11, 1, 7, 5, 8]\n",
      "[11, 1, 7, 8, 5]\n",
      "[11, 1, 5, 7, 8]\n",
      "[11, 1, 5, 8, 7]\n",
      "[11, 1, 8, 7, 5]\n",
      "[11, 1, 8, 5, 7]\n",
      "[11, 7, 1, 5, 8]\n",
      "[11, 7, 1, 8, 5]\n",
      "[11, 7, 5, 1, 8]\n",
      "[11, 7, 5, 8, 1]\n",
      "[11, 7, 8, 1, 5]\n",
      "[11, 7, 8, 5, 1]\n",
      "[11, 5, 1, 7, 8]\n",
      "[11, 5, 1, 8, 7]\n",
      "[11, 5, 7, 1, 8]\n",
      "[11, 5, 7, 8, 1]\n",
      "[11, 5, 8, 1, 7]\n",
      "[11, 5, 8, 7, 1]\n",
      "[11, 8, 1, 7, 5]\n",
      "[11, 8, 1, 5, 7]\n",
      "[11, 8, 7, 1, 5]\n",
      "[11, 8, 7, 5, 1]\n",
      "[11, 8, 5, 1, 7]\n",
      "[11, 8, 5, 7, 1]\n",
      "Broj permutacija:  120\n"
     ]
    }
   ],
   "source": [
    "global LP\n",
    "\n",
    "def rekurzija(L,n,L1=[]):\n",
    "    global LP\n",
    "    if n>0:\n",
    "        for i in range(0,len(L)):\n",
    "            rekurzija(L,n-1,L1+[L[i]])\n",
    "    else:\n",
    "        S=set(L1)\n",
    "        if len(S)==len(L):\n",
    "            LP=LP+[L1]\n",
    "            return LP\n",
    "\n",
    "\n",
    "def perm_fun(*argumenti):\n",
    "    global LP\n",
    "    L=list(argumenti)\n",
    "    LP=[]\n",
    "    n=len(argumenti)\n",
    "    rekurzija(L,n)\n",
    "\n",
    "perm_fun(1,7,5,8,11)\n",
    "for x in LP:\n",
    "    print(x)\n",
    "print(\"Broj permutacija: \",len(LP))"
   ]
  },
  {
   "cell_type": "markdown",
   "metadata": {},
   "source": [
    "# Itertools permutacije"
   ]
  },
  {
   "cell_type": "code",
   "execution_count": 39,
   "metadata": {
    "collapsed": false
   },
   "outputs": [
    {
     "name": "stdout",
     "output_type": "stream",
     "text": [
      "Permutacije:\n",
      "{1,2,3,5}\n",
      "{1,2,5,3}\n",
      "{1,3,2,5}\n",
      "{1,3,5,2}\n",
      "{1,5,2,3}\n",
      "{1,5,3,2}\n",
      "{2,1,3,5}\n",
      "{2,1,5,3}\n",
      "{2,3,1,5}\n",
      "{2,3,5,1}\n",
      "{2,5,1,3}\n",
      "{2,5,3,1}\n",
      "{3,1,2,5}\n",
      "{3,1,5,2}\n",
      "{3,2,1,5}\n",
      "{3,2,5,1}\n",
      "{3,5,1,2}\n",
      "{3,5,2,1}\n",
      "{5,1,2,3}\n",
      "{5,1,3,2}\n",
      "{5,2,1,3}\n",
      "{5,2,3,1}\n",
      "{5,3,1,2}\n",
      "{5,3,2,1}\n"
     ]
    }
   ],
   "source": [
    "import itertools\n",
    "\n",
    "def itertools_perm_generator(st):\n",
    "    for p in itertools.permutations(st):\n",
    "        st=\",\".join(p)\n",
    "        yield st\n",
    "def itertools_perm_generator2(st):\n",
    "    yield from itertools.permutations(st)\n",
    "\n",
    "print(\"Permutacije:\")\n",
    "for x in itertools_perm_generator(\"1235\"):\n",
    "    print(\"{{{0}}}\".format(x))\n",
    "\n",
    "    "
   ]
  },
  {
   "cell_type": "code",
   "execution_count": null,
   "metadata": {
    "collapsed": true
   },
   "outputs": [],
   "source": []
  }
 ],
 "metadata": {
  "kernelspec": {
   "display_name": "Python 3",
   "language": "python",
   "name": "python3"
  },
  "language_info": {
   "codemirror_mode": {
    "name": "ipython",
    "version": 3
   },
   "file_extension": ".py",
   "mimetype": "text/x-python",
   "name": "python",
   "nbconvert_exporter": "python",
   "pygments_lexer": "ipython3",
   "version": "3.4.0"
  }
 },
 "nbformat": 4,
 "nbformat_minor": 0
}
