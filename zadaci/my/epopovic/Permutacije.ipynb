{
 "cells": [
  {
   "cell_type": "code",
   "execution_count": 31,
   "metadata": {
    "collapsed": false
   },
   "outputs": [
    {
     "name": "stdout",
     "output_type": "stream",
     "text": [
      "24  permutacija\n"
     ]
    },
    {
     "data": {
      "text/plain": [
       "[{0, 1, 2, 3},\n",
       " {0, 1, 2, 3},\n",
       " {0, 1, 2, 3},\n",
       " {0, 1, 2, 3},\n",
       " {0, 1, 2, 3},\n",
       " {0, 1, 2, 3},\n",
       " {0, 1, 2, 3},\n",
       " {0, 1, 2, 3},\n",
       " {0, 1, 2, 3},\n",
       " {0, 1, 2, 3},\n",
       " {0, 1, 2, 3},\n",
       " {0, 1, 2, 3},\n",
       " {0, 1, 2, 3},\n",
       " {0, 1, 2, 3},\n",
       " {0, 1, 2, 3},\n",
       " {0, 1, 2, 3},\n",
       " {0, 1, 2, 3},\n",
       " {0, 1, 2, 3},\n",
       " {0, 1, 2, 3},\n",
       " {0, 1, 2, 3},\n",
       " {0, 1, 2, 3},\n",
       " {0, 1, 2, 3},\n",
       " {0, 1, 2, 3},\n",
       " {0, 1, 2, 3}]"
      ]
     },
     "execution_count": 31,
     "metadata": {},
     "output_type": "execute_result"
    }
   ],
   "source": [
    "#ispisati permutacije četveročlanog skupa\n",
    "def perm_gen():\n",
    "    count=0\n",
    "    '''Generator za 4 permutacije'''\n",
    "    L=[{1,2,3,4}]\n",
    "    for l in range(0,4):\n",
    "        for k in range(0,4):\n",
    "            for j in range(0,4):\n",
    "                for i in range(0,4):\n",
    "                    S={l,k,j,i}\n",
    "                    if len(S)==4:\n",
    "                        yield S\n",
    "                        count+=1\n",
    "    print(count,\" permutacija\")\n",
    "\n",
    "[x for x in perm_gen()]\n",
    "\n",
    "\n",
    "                "
   ]
  },
  {
   "cell_type": "code",
   "execution_count": 46,
   "metadata": {
    "collapsed": false
   },
   "outputs": [
    {
     "name": "stdout",
     "output_type": "stream",
     "text": [
      "Permutacije:\n",
      "{1,2,3,4}\n",
      "{1,2,4,3}\n",
      "{1,3,2,4}\n",
      "{1,3,4,2}\n",
      "{1,4,2,3}\n",
      "{1,4,3,2}\n",
      "{2,1,3,4}\n",
      "{2,1,4,3}\n",
      "{2,3,1,4}\n",
      "{2,3,4,1}\n",
      "{2,4,1,3}\n",
      "{2,4,3,1}\n",
      "{3,1,2,4}\n",
      "{3,1,4,2}\n",
      "{3,2,1,4}\n",
      "{3,2,4,1}\n",
      "{3,4,1,2}\n",
      "{3,4,2,1}\n",
      "{4,1,2,3}\n",
      "{4,1,3,2}\n",
      "{4,2,1,3}\n",
      "{4,2,3,1}\n",
      "{4,3,1,2}\n",
      "{4,3,2,1}\n"
     ]
    }
   ],
   "source": [
    "import itertools\n",
    "\n",
    "def itertools_perm_generator(st):\n",
    "    for p in itertools.permutations(st):\n",
    "        st=\",\".join(p)\n",
    "        yield st\n",
    "def itertools_perm_generator2(st):\n",
    "    yield from itertools.permutations(st)\n",
    "\n",
    "print(\"Permutacije:\")\n",
    "for x in itertools_perm_generator(\"1234\"):\n",
    "    print(\"{{{0}}}\".format(x))\n",
    "\n",
    "    "
   ]
  },
  {
   "cell_type": "code",
   "execution_count": null,
   "metadata": {
    "collapsed": true
   },
   "outputs": [],
   "source": []
  }
 ],
 "metadata": {
  "kernelspec": {
   "display_name": "Python 3",
   "language": "python",
   "name": "python3"
  },
  "language_info": {
   "codemirror_mode": {
    "name": "ipython",
    "version": 3
   },
   "file_extension": ".py",
   "mimetype": "text/x-python",
   "name": "python",
   "nbconvert_exporter": "python",
   "pygments_lexer": "ipython3",
   "version": "3.4.0"
  }
 },
 "nbformat": 4,
 "nbformat_minor": 0
}
