{
 "cells": [
  {
   "cell_type": "markdown",
   "metadata": {},
   "source": [
    "# Zadatak 1.1"
   ]
  },
  {
   "cell_type": "markdown",
   "metadata": {},
   "source": [
    "$ Napisati\\ generatore\\ za\\ Hornerov\\ i\\ Euklidov\\ algoritam $"
   ]
  },
  {
   "cell_type": "code",
   "execution_count": 1,
   "metadata": {
    "collapsed": false
   },
   "outputs": [
    {
     "name": "stdout",
     "output_type": "stream",
     "text": [
      "Test generatora:  True\n",
      "x=2, poly=[1,2,-4,7]. Rezultantni redak: [1, 4, 4, 15]\n"
     ]
    }
   ],
   "source": [
    "#generator koji vraća elemente retka Hornerove sheme\n",
    "def horner_g(x,poly):\n",
    "    r=poly[0]\n",
    "    yield r\n",
    "    for c in poly[1:]:\n",
    "        r=x*r+c\n",
    "        yield r\n",
    "        \n",
    "#test\n",
    "print(\"Test generatora: \",[x for x in horner_g(x=2, poly=[1,2,-4,7])] == [1,4,4,15])\n",
    "\n",
    "#ispis retka iz testa\n",
    "print(\"x=2, poly=[1,2,-4,7]. Rezultantni redak:\",[x for x in horner_g(x=2, poly=[1,2,-4,7])])"
   ]
  },
  {
   "cell_type": "code",
   "execution_count": 2,
   "metadata": {
    "collapsed": false
   },
   "outputs": [
    {
     "name": "stdout",
     "output_type": "stream",
     "text": [
      "Retci Hornerovog algoritma za x=2, poly=[1,2,-4,7]\n",
      "[1, 4, 4, 15]\n",
      "[1, 6, 16]\n",
      "[1, 8]\n",
      "[1]\n"
     ]
    }
   ],
   "source": [
    "#generator koji vraća retke Hornerove sheme\n",
    "def horner_retci_g(x,poly):\n",
    "    while True:\n",
    "        L=[x for x in horner_g(x,poly)]\n",
    "        yield L\n",
    "        if(len(L)==1):\n",
    "            break\n",
    "        poly=L[:-1]\n",
    "\n",
    "#test\n",
    "print(\"Retci Hornerovog algoritma za x=2, poly=[1,2,-4,7]\")\n",
    "for x in horner_retci_g(x=2,poly=[1,2,-4,7]):\n",
    "    print(x)"
   ]
  },
  {
   "cell_type": "code",
   "execution_count": 3,
   "metadata": {
    "collapsed": false
   },
   "outputs": [
    {
     "name": "stdout",
     "output_type": "stream",
     "text": [
      "Test generatora:  True\n",
      "a=112, b=13, ostaci su: [112, 13, 8, 5, 3, 2, 1]\n"
     ]
    }
   ],
   "source": [
    "#Euklidov algoritam - generator ostataka\n",
    "def rem_g(a, b):\n",
    "    while b>0:\n",
    "        yield a\n",
    "        a,b=b,a%b\n",
    "    yield a\n",
    "\n",
    "#test\n",
    "print(\"Test generatora: \",list(rem_g(112,13)) == [112,13,8,5,3,2,1])\n",
    "#ispis retka iz testa\n",
    "print(\"a=112, b=13, ostaci su:\",list(rem_g(112,13)))"
   ]
  },
  {
   "cell_type": "code",
   "execution_count": 4,
   "metadata": {
    "collapsed": false
   },
   "outputs": [
    {
     "name": "stdout",
     "output_type": "stream",
     "text": [
      "Test generatora: True\n",
      "a=112, b=13, kvocjenti su: [8, 1, 1, 1, 1, 2]\n"
     ]
    }
   ],
   "source": [
    "#Euklidov algoritam - generator kvocjenata\n",
    "def quo_g(a,b):\n",
    "    while b>0:\n",
    "        yield a//b\n",
    "        a,b=b,a%b\n",
    "\n",
    "#test\n",
    "print(\"Test generatora:\",list(quo_g(112,13)) == [8,1,1,1,1,2])\n",
    "#ispis retka iz testa\n",
    "print(\"a=112, b=13, kvocjenti su:\",list(quo_g(112,13)))"
   ]
  },
  {
   "cell_type": "markdown",
   "metadata": {},
   "source": [
    "# Zadatak 1.2"
   ]
  },
  {
   "cell_type": "markdown",
   "metadata": {},
   "source": [
    "$Smisliti\\ vlastiti\\ generator\\ po\\ izboru$"
   ]
  },
  {
   "cell_type": "code",
   "execution_count": 5,
   "metadata": {
    "collapsed": true
   },
   "outputs": [],
   "source": [
    "import itertools as it"
   ]
  },
  {
   "cell_type": "code",
   "execution_count": 6,
   "metadata": {
    "collapsed": false
   },
   "outputs": [
    {
     "name": "stdout",
     "output_type": "stream",
     "text": [
      "[0, 0, 0, 1, 1, 2, 4, 8, 15, 29, 56, 108, 208, 401, 773, 1490, 2872, 5536, 10671, 20569, 39648, 76424, 147312, 283953, 547337, 1055026, 2033628, 3919944, 7555935, 14564533, 28074040, 54114452, 104308960, 201061985, 387559437, 747044834, 1439975216, 2775641472, 5350220959, 10312882481, 19878720128, 38317465040, 73859288608, 142368356257, 274423830033, 528968939938, 1019620414836, 1965381541064, 3788394725871, 7302365621709]\n"
     ]
    }
   ],
   "source": [
    "'''\n",
    "generator generaliziranih fibonaccijevih nizova\n",
    "n=2 - Fibonacci (default)\n",
    "n=3 - Tribonacci\n",
    "n=4 - Tetranacci\n",
    "n=5 - Pentanacci\n",
    "'''\n",
    "def n_nacci_g(n=2,r=50):\n",
    "    if n<2 or n>30:\n",
    "        n=2\n",
    "    L=[0,1]\n",
    "    for i in range(2,n):\n",
    "        L=[0]+L\n",
    "    for i in range(0,r):\n",
    "        yield L[0]\n",
    "        A=list(it.accumulate(L))\n",
    "        L=list(it.islice(L,1,n))+A[(n-1):]\n",
    "\n",
    "L=[x for x in n_nacci_g(4)]\n",
    "print(L)"
   ]
  },
  {
   "cell_type": "code",
   "execution_count": 7,
   "metadata": {
    "collapsed": false
   },
   "outputs": [
    {
     "name": "stdout",
     "output_type": "stream",
     "text": [
      "[1.618033988749895, 1.8392867552141612, 1.9275619754829254, 1.9659482366454852, 1.9835828434243263, 1.991964196605035, 1.9960311797354147, 1.9980294702622867, 1.9990186327101012, 1.9995104019782854, 1.9997555009373176, 1.9998778327115456, 1.9999389387495947, 1.9999694754345032, 1.9999847393479442, 1.9999923701106546, 1.9999961851717603, 1.9999980926168055, 1.9999990463165884, 1.9999995231604544, 1.9999997615807956, 1.999999880790547, 1.9999999403953126, 1.9999999701976665, 1.999999985098836, 1.9999999925494187, 1.9999999962747095, 1.9999999981373549]\n"
     ]
    }
   ],
   "source": [
    "'''\n",
    "generator konstanti generaliziranih Fibonaccijevih nizova\n",
    "Za Fibonacci to je 1,618033... zlatni rez\n",
    "Za Tribonacci je to 1,839286...\n",
    "itd\n",
    "'''\n",
    "def fib_constant_g():\n",
    "    for i in range(2,30):\n",
    "        L=[x for x in n_nacci_g(i,80)]\n",
    "        yield L[-1]/L[-2]\n",
    "\n",
    "L=[x for x in fib_constant_g()]\n",
    "print(L)\n",
    "    "
   ]
  },
  {
   "cell_type": "markdown",
   "metadata": {},
   "source": [
    "# Zadatak 2.1"
   ]
  },
  {
   "cell_type": "markdown",
   "metadata": {},
   "source": [
    "$ Doraditi\\ zadatak\\ s\\ radionice\\ s\\ Excel\\ tablicom $"
   ]
  },
  {
   "cell_type": "code",
   "execution_count": 8,
   "metadata": {
    "collapsed": false
   },
   "outputs": [
    {
     "name": "stdout",
     "output_type": "stream",
     "text": [
      "['Josip Mlakar, ', 'Elvis Popović, ', 'Vladimir Milašinović, ', 'Filip Rafajec, ', 'Matej Gucek, ', 'Jura Šolja, ', 'Gabrijela Grgača, ', 'Stjepan Rakarec, ', 'Davorin Špičko, ', 'Milan Pavlović, ', 'Senko Pušec, ', 'Filip Aleksić, ', 'Roman Tomašković, ', 'Peđa Čačić, ', 'Saša Poslončec,', 'Mislav Zebić, ', 'Ian Žonja,', 'Tomislav Cundić, ', 'Matija Kaniški,', 'Petar Šestak,', 'Ivana Završki,', 'Vedran Vađunec, ', 'Matea Bodulušić, ', 'Andrea Danzante,']\n"
     ]
    }
   ],
   "source": [
    "import xlrd, re\n",
    "filename=\"pywo_some_data.xlsx\"\n",
    "\n",
    "xlrd_wokbook=xlrd.open_workbook(filename)\n",
    "sheets=xlrd_wokbook.sheet_names()\n",
    "#xl_sheet = xlrd_wokbook.sheet_by_name(sheets[0])\n",
    "xl_sheet = xlrd_wokbook.sheet_by_index(0)\n",
    "\n",
    "L=[student.value for student in xl_sheet.col(0)]\n",
    "M=[x for x in L if x!='']\n",
    "print(M)\n"
   ]
  },
  {
   "cell_type": "code",
   "execution_count": 13,
   "metadata": {
    "collapsed": false
   },
   "outputs": [
    {
     "name": "stdout",
     "output_type": "stream",
     "text": [
      "['Josip Mlakar', 'Elvis Popović', 'Vladimir Milašinović', 'Filip Rafajec', 'Matej Gucek', 'Jura Šolja', 'Gabrijela Grgača', 'Stjepan Rakarec', 'Davorin Špičko', 'Milan Pavlović', 'Senko Pušec', 'Filip Aleksić', 'Roman Tomašković', 'Peđa Čačić', 'Saša Poslončec', 'Mislav Zebić', 'Ian Žonja', 'Tomislav Cundić', 'Matija Kaniški', 'Petar Šestak', 'Ivana Završki', 'Vedran Vađunec', 'Matea Bodulušić', 'Andrea Danzante']\n"
     ]
    }
   ],
   "source": [
    "#regex izbacivanje zareza\n",
    "L1=[]\n",
    "for x in M:\n",
    "    m=re.match(r'[^\\,]*',x)\n",
    "    L1.append(m.group(0))\n",
    "\n",
    "L2=[ime for ime in L1]\n",
    "print(L2)"
   ]
  },
  {
   "cell_type": "code",
   "execution_count": 10,
   "metadata": {
    "collapsed": false
   },
   "outputs": [
    {
     "name": "stdout",
     "output_type": "stream",
     "text": [
      "[['Mlakar', 'Josip'], ['Popović', 'Elvis'], ['Milašinović', 'Vladimir'], ['Rafajec', 'Filip'], ['Gucek', 'Matej'], ['Šolja', 'Jura'], ['Grgača', 'Gabrijela'], ['Rakarec', 'Stjepan'], ['Špičko', 'Davorin'], ['Pavlović', 'Milan'], ['Pušec', 'Senko'], ['Aleksić', 'Filip'], ['Tomašković', 'Roman'], ['Čačić', 'Peđa'], ['Poslončec', 'Saša'], ['Zebić', 'Mislav'], ['Žonja', 'Ian'], ['Cundić', 'Tomislav'], ['Kaniški', 'Matija'], ['Šestak', 'Petar'], ['Završki', 'Ivana'], ['Vađunec', 'Vedran'], ['Bodulušić', 'Matea'], ['Danzante', 'Andrea']]\n"
     ]
    }
   ],
   "source": [
    "def sredi(ime):\n",
    "    listica=ime.split()\n",
    "    return listica[::-1]\n",
    "P=[ sredi(ime) for ime in L1]\n",
    "print(P)"
   ]
  },
  {
   "cell_type": "code",
   "execution_count": 11,
   "metadata": {
    "collapsed": false
   },
   "outputs": [
    {
     "name": "stdout",
     "output_type": "stream",
     "text": [
      "[['Aleksić', 'Filip'], ['Bodulušić', 'Matea'], ['Cundić', 'Tomislav'], ['Danzante', 'Andrea'], ['Grgača', 'Gabrijela'], ['Gucek', 'Matej'], ['Kaniški', 'Matija'], ['Milašinović', 'Vladimir'], ['Mlakar', 'Josip'], ['Pavlović', 'Milan'], ['Popović', 'Elvis'], ['Poslončec', 'Saša'], ['Pušec', 'Senko'], ['Rafajec', 'Filip'], ['Rakarec', 'Stjepan'], ['Tomašković', 'Roman'], ['Vađunec', 'Vedran'], ['Završki', 'Ivana'], ['Zebić', 'Mislav'], ['Čačić', 'Peđa'], ['Šestak', 'Petar'], ['Šolja', 'Jura'], ['Špičko', 'Davorin'], ['Žonja', 'Ian']]\n"
     ]
    }
   ],
   "source": [
    "#sortiranje\n",
    "def sortiranje(X):\n",
    "    return sorted(X,key=lambda x:x[0])\n",
    "\n",
    "S=sortiranje(P)\n",
    "print(S)"
   ]
  },
  {
   "cell_type": "code",
   "execution_count": 12,
   "metadata": {
    "collapsed": true
   },
   "outputs": [],
   "source": [
    "from xlwt import Workbook, easyxf\n",
    "wb = Workbook()\n",
    "str=wb.add_sheet('Stranica1')\n",
    "str.write(0,0,'Prezime i ime')\n",
    "str.col(0).width=20*256\n",
    "r=1\n",
    "for i in S:\n",
    "    str.write(r,0,\" \".join(i))\n",
    "    r+=1\n",
    "wb.save('pywo_izlaz.xls')"
   ]
  },
  {
   "cell_type": "markdown",
   "metadata": {},
   "source": [
    "# Zadatak 2.2"
   ]
  },
  {
   "cell_type": "markdown",
   "metadata": {},
   "source": [
    "$ Dopuniti\\ klase\\ Tocka\\ i\\ Vektor\\ i\\ napisati\\ aplikaciju. $"
   ]
  },
  {
   "cell_type": "code",
   "execution_count": 13,
   "metadata": {
    "collapsed": false
   },
   "outputs": [
    {
     "name": "stdout",
     "output_type": "stream",
     "text": [
      "Overwriting ravnina.py\n"
     ]
    }
   ],
   "source": [
    "%%writefile ravnina.py \n",
    "#snimit ce celiju\n",
    "\n",
    "from math import sqrt\n",
    "\n",
    "class Tocka:\n",
    "    '''Opis klase\n",
    "    2D tocke u ravnini\n",
    "    '''\n",
    "    def __init__(self, x,y):\n",
    "        self.x=x\n",
    "        self.y=y\n",
    "    def norm(self):\n",
    "        return sqrt(self.x**2+self.y**2)\n",
    "    def __repr__(self):\n",
    "        return \"Tocka x={0}, y={1}\".format(self.x,self.y)\n",
    "\n",
    "    \n",
    "class Vektor(Tocka):\n",
    "    '''\n",
    "    Nasljedjuje klasu tocka\n",
    "    '''\n",
    "    def __add__(self,b):\n",
    "        return Vektor(x=self.x+b.x,y=self.y+b.y)\n",
    "    def __sub__(self,b):\n",
    "        return Vektor(x=self.x-b.x,y=self.y-b.y)\n",
    "\n",
    "    def __mul__(self, b):\n",
    "        if type(b) == type(self):\n",
    "            return self.x*b.x+self.y*b.y\n",
    "        elif type(b) == type(1) or type(b) == type(1.0):\n",
    "            return Vektor(x=self.x*b, y=self.y*b)\n",
    "    \n",
    "    def __rmul__(self, other):\n",
    "        return self.__mul__(other)\n",
    "\n",
    "    def __repr__(self):\n",
    "        return \"Vektor x={0}, y={1}\".format(self.x,self.y)"
   ]
  },
  {
   "cell_type": "code",
   "execution_count": 2,
   "metadata": {
    "collapsed": true
   },
   "outputs": [],
   "source": [
    "from ravnina import *\n"
   ]
  },
  {
   "cell_type": "code",
   "execution_count": 3,
   "metadata": {
    "collapsed": false
   },
   "outputs": [
    {
     "name": "stdout",
     "output_type": "stream",
     "text": [
      "<class 'ravnina.Tocka'>\n",
      "<class 'ravnina.Vektor'>\n"
     ]
    }
   ],
   "source": [
    "#provjera tipova\n",
    "A=Tocka(1,2)\n",
    "A.norm()**2\n",
    "print(type(A))\n",
    "\n",
    "a=Vektor(-1,-3)\n",
    "b=Vektor(1,2)\n",
    "print(type(a))"
   ]
  },
  {
   "cell_type": "code",
   "execution_count": 7,
   "metadata": {
    "collapsed": false
   },
   "outputs": [
    {
     "name": "stdout",
     "output_type": "stream",
     "text": [
      "Vektori - a: Vektor x=-1, y=-3, b: Vektor x=1, y=2\n",
      "Rezultat za zbroj vektora je Vektor x=0, y=-1\n",
      "Rezultat za razliku vektora je Vektor x=-2, y=-5\n",
      "Rezultat za skalarni umnozak vektora je -7\n",
      "Rezultat za umnozak skalara i vektora je Vektor x=-2, y=-6\n",
      "Rezultat za umnozak vektora i skalara je Vektor x=-2, y=-6\n"
     ]
    }
   ],
   "source": [
    "#racunanje\n",
    "print(\"Vektori - a: {0}, b: {1}\".format(a,b))\n",
    "\n",
    "c=a+b\n",
    "print(\"Rezultat za zbroj vektora je {0}\".format(c))\n",
    "\n",
    "c1=a-b\n",
    "print(\"Rezultat za razliku vektora je {0}\".format(c1))\n",
    "\n",
    "c2=a*b\n",
    "print(\"Rezultat za skalarni umnozak vektora je {0}\".format(c2))\n",
    "\n",
    "c3=2*a\n",
    "print(\"Rezultat za umnozak skalara i vektora je {0}\".format(c3))\n",
    "\n",
    "c4=a*2\n",
    "print(\"Rezultat za umnozak vektora i skalara je {0}\".format(c4))"
   ]
  },
  {
   "cell_type": "markdown",
   "metadata": {},
   "source": [
    "$Aplikacija\\ rr$"
   ]
  },
  {
   "cell_type": "code",
   "execution_count": 121,
   "metadata": {
    "collapsed": false
   },
   "outputs": [
    {
     "name": "stdout",
     "output_type": "stream",
     "text": [
      "Overwriting rr\n"
     ]
    }
   ],
   "source": [
    "%%writefile rr\n",
    "#!/usr/bin/python3\n",
    "import argparse\n",
    "from math import sqrt\n",
    "\n",
    "class Tocka:\n",
    "    '''Opis klase\n",
    "    2D tocke u ravnini\n",
    "    '''\n",
    "    def __init__(self, x,y):\n",
    "        self.x=x\n",
    "        self.y=y\n",
    "    def norm(self):\n",
    "        return sqrt(self.x**2+self.y**2)\n",
    "    def __repr__(self):\n",
    "        return \"Tocka x={0}, y={1}\".format(self.x,self.y)\n",
    "\n",
    "    \n",
    "class Vektor(Tocka):\n",
    "    '''\n",
    "    Nasljedjuje klasu tocka\n",
    "    '''\n",
    "    def __add__(self,b):\n",
    "        return Vektor(x=self.x+b.x,y=self.y+b.y)\n",
    "    def __sub__(self,b):\n",
    "        return Vektor(x=self.x-b.x,y=self.y-b.y)\n",
    "\n",
    "    def __mul__(self, b):\n",
    "        if type(b) == type(self):\n",
    "            return self.x*b.x+self.y*b.y\n",
    "        elif type(b) == type(1) or type(b) == type(1.0):\n",
    "            return Vektor(x=self.x*b, y=self.y*b)\n",
    "    \n",
    "    def __rmul__(self, other):\n",
    "        return self.__mul__(other)\n",
    "\n",
    "    def __repr__(self):\n",
    "        return \"Vektor x={0}, y={1}\".format(self.x,self.y)\n",
    "\n",
    "def getArgument(arg):\n",
    "    if arg[0]=='[':\n",
    "        arg=arg[1:-1].split(',')\n",
    "        x=int(arg[0])\n",
    "        y=int(arg[1])\n",
    "        return Vektor(x,y)\n",
    "    else:\n",
    "        return int(arg)\n",
    "    \n",
    "parser = argparse.ArgumentParser(prog='rr', description='Racunanje 2D vektora i tocaka u ravnini.')\n",
    "parser.add_argument(\"--add\", action=\"store_true\", help='zbrajanje vektora')\n",
    "parser.add_argument(\"--sub\", action=\"store_true\", help='oduzimanje vektora')\n",
    "parser.add_argument(\"--verbose\", help=\"detaljniji opis\", action=\"store_true\")\n",
    "parser.add_argument(\"--debug\", help=\"za potrebe testiranja\", action=\"store_true\")\n",
    "parser.add_argument(\"a\", help='prvi argument')\n",
    "parser.add_argument(\"b\", help='drugi argument')\n",
    "\n",
    "argumenti=parser.parse_args()\n",
    "a=getArgument(argumenti.a)\n",
    "b=getArgument(argumenti.b)\n",
    "\n",
    "if argumenti.debug == True:\n",
    "    print(\"argumenti: \",argumenti)\n",
    "    print(\"Ulazni argumenti: {0} i {1}\".format(argumenti.a,argumenti.b))\n",
    "    print(\"Ulazni vektori: {0} i {1}\".format(a,b))\n",
    "    print(\"Testiranje: \")\n",
    "    print(\"Norme:\\na: {0}, b: {1}\\nOperacije:\".format(a.norm(),b.norm()))\n",
    "    print(\"a+b= {0}\".format(a+b))\n",
    "    print(\"a-b= {0}\".format(a-b))\n",
    "    print(\"a*b= {0}\".format(a*b))\n",
    "\n",
    "\n",
    "if argumenti.debug == True or argumenti.verbose==True:\n",
    "    print(\"Ulazni vektori (argumenti):\")\n",
    "    print(\"a:\",a)\n",
    "    print(\"b:\",b)\n",
    "    print(\"Izlaz (rezultat):\")\n",
    "if argumenti.add == True:\n",
    "    print(a+b)\n",
    "elif argumenti.sub == True:\n",
    "    print(a-b)"
   ]
  }
 ],
 "metadata": {
  "kernelspec": {
   "display_name": "Python 3",
   "language": "python",
   "name": "python3"
  },
  "language_info": {
   "codemirror_mode": {
    "name": "ipython",
    "version": 3
   },
   "file_extension": ".py",
   "mimetype": "text/x-python",
   "name": "python",
   "nbconvert_exporter": "python",
   "pygments_lexer": "ipython3",
   "version": "3.4.0"
  }
 },
 "nbformat": 4,
 "nbformat_minor": 0
}
