{
 "cells": [
  {
   "cell_type": "code",
   "execution_count": 3,
   "metadata": {
    "collapsed": false
   },
   "outputs": [
    {
     "name": "stdout",
     "output_type": "stream",
     "text": [
      "Excel-citanje.ipynb  pywo_some_data.xlsx\r\n"
     ]
    }
   ],
   "source": [
    "!ls ../../03/"
   ]
  },
  {
   "cell_type": "code",
   "execution_count": 4,
   "metadata": {
    "collapsed": true
   },
   "outputs": [],
   "source": [
    "filename = \"../../03/pywo_some_data.xlsx\""
   ]
  },
  {
   "cell_type": "code",
   "execution_count": 5,
   "metadata": {
    "collapsed": true
   },
   "outputs": [],
   "source": [
    "!cp $filename ."
   ]
  },
  {
   "cell_type": "code",
   "execution_count": 6,
   "metadata": {
    "collapsed": false
   },
   "outputs": [
    {
     "name": "stdout",
     "output_type": "stream",
     "text": [
      "Euklidov algoritam.ipynb\t    MZ1 notebook.ipynb\tpywo_izlaz.xls\r\n",
      "Excel.ipynb\t\t\t    MZ-2-1.ipynb\tpywo_some_data.xlsx\r\n",
      "Funkcije i njihovi argumenti.ipynb  Objekti.ipynb\travnina.py\r\n",
      "Horner.ipynb\t\t\t    Permutacije.ipynb\tUntitled.ipynb\r\n",
      "Iterator protokol.ipynb\t\t    __pycache__\r\n"
     ]
    }
   ],
   "source": [
    "!ls"
   ]
  },
  {
   "cell_type": "code",
   "execution_count": 7,
   "metadata": {
    "collapsed": false
   },
   "outputs": [
    {
     "data": {
      "text/plain": [
       "' Zadatak \\nOtvoriti ovaj excel file i pročitati prvi stupac\\nZa to treba  xlrd\\npip install xlrd '"
      ]
     },
     "execution_count": 7,
     "metadata": {},
     "output_type": "execute_result"
    }
   ],
   "source": [
    "''' Zadatak \n",
    "Otvoriti ovaj excel file i pročitati prvi stupac\n",
    "Za to treba  xlrd\n",
    "pip install xlrd '''"
   ]
  },
  {
   "cell_type": "code",
   "execution_count": 8,
   "metadata": {
    "collapsed": false
   },
   "outputs": [
    {
     "ename": "SyntaxError",
     "evalue": "invalid syntax (<ipython-input-8-436ac63d8928>, line 1)",
     "output_type": "error",
     "traceback": [
      "\u001b[1;36m  File \u001b[1;32m\"<ipython-input-8-436ac63d8928>\"\u001b[1;36m, line \u001b[1;32m1\u001b[0m\n\u001b[1;33m    Sortirali na 2 nacina\u001b[0m\n\u001b[1;37m               ^\u001b[0m\n\u001b[1;31mSyntaxError\u001b[0m\u001b[1;31m:\u001b[0m invalid syntax\n"
     ]
    }
   ],
   "source": [
    "Sortirali na 2 nacina\n",
    "DZ za vjezbu: izbaciti specijalne znakove preko regularnih izraza"
   ]
  },
  {
   "cell_type": "code",
   "execution_count": 9,
   "metadata": {
    "collapsed": false
   },
   "outputs": [
    {
     "name": "stdout",
     "output_type": "stream",
     "text": [
      "['Sheet1']\n"
     ]
    }
   ],
   "source": [
    "import xlrd\n",
    "xlrd_wokbook=xlrd.open_workbook(filename)\n",
    "sheets=xlrd_wokbook.sheet_names()\n",
    "print(sheets)\n",
    "#xl_sheet = xlrd_wokbook.sheet_by_name(sheets[0])\n",
    "xl_sheet = xlrd_wokbook.sheet_by_index(0)\n"
   ]
  },
  {
   "cell_type": "code",
   "execution_count": 10,
   "metadata": {
    "collapsed": false
   },
   "outputs": [
    {
     "data": {
      "text/plain": [
       "['',\n",
       " 'Josip Mlakar, ',\n",
       " 'Elvis Popović, ',\n",
       " 'Vladimir Milašinović, ',\n",
       " 'Filip Rafajec, ',\n",
       " 'Matej Gucek, ',\n",
       " 'Jura Šolja, ',\n",
       " 'Gabrijela Grgača, ',\n",
       " 'Stjepan Rakarec, ',\n",
       " 'Davorin Špičko, ',\n",
       " 'Milan Pavlović, ',\n",
       " 'Senko Pušec, ',\n",
       " 'Filip Aleksić, ',\n",
       " 'Roman Tomašković, ',\n",
       " 'Peđa Čačić, ',\n",
       " 'Saša Poslončec,',\n",
       " 'Mislav Zebić, ',\n",
       " 'Ian Žonja,',\n",
       " 'Tomislav Cundić, ',\n",
       " 'Matija Kaniški,',\n",
       " 'Petar Šestak,',\n",
       " 'Ivana Završki,',\n",
       " 'Vedran Vađunec, ',\n",
       " 'Matea Bodulušić, ',\n",
       " 'Andrea Danzante,']"
      ]
     },
     "execution_count": 10,
     "metadata": {},
     "output_type": "execute_result"
    }
   ],
   "source": [
    "L=[student.value for student in xl_sheet.col(0)]\n",
    "L"
   ]
  },
  {
   "cell_type": "code",
   "execution_count": 11,
   "metadata": {
    "collapsed": false
   },
   "outputs": [
    {
     "name": "stdout",
     "output_type": "stream",
     "text": [
      "['Josip Mlakar, ', 'Elvis Popović, ', 'Vladimir Milašinović, ', 'Filip Rafajec, ', 'Matej Gucek, ', 'Jura Šolja, ', 'Gabrijela Grgača, ', 'Stjepan Rakarec, ', 'Davorin Špičko, ', 'Milan Pavlović, ', 'Senko Pušec, ', 'Filip Aleksić, ', 'Roman Tomašković, ', 'Peđa Čačić, ', 'Saša Poslončec,', 'Mislav Zebić, ', 'Ian Žonja,', 'Tomislav Cundić, ', 'Matija Kaniški,', 'Petar Šestak,', 'Ivana Završki,', 'Vedran Vađunec, ', 'Matea Bodulušić, ', 'Andrea Danzante,']\n"
     ]
    }
   ],
   "source": [
    "M=[x for x in L if x!='']\n",
    "print(M)"
   ]
  },
  {
   "cell_type": "code",
   "execution_count": 12,
   "metadata": {
    "collapsed": false
   },
   "outputs": [],
   "source": [
    "def sredi(ime):\n",
    "    v=ime.strip(\", \")\n",
    "    listica=v.split()\n",
    "    return listica[::-1]\n",
    "   "
   ]
  },
  {
   "cell_type": "code",
   "execution_count": 13,
   "metadata": {
    "collapsed": false
   },
   "outputs": [
    {
     "name": "stdout",
     "output_type": "stream",
     "text": [
      "[['Mlakar', 'Josip'], ['Popović', 'Elvis'], ['Milašinović', 'Vladimir'], ['Rafajec', 'Filip'], ['Gucek', 'Matej'], ['Šolja', 'Jura'], ['Grgača', 'Gabrijela'], ['Rakarec', 'Stjepan'], ['Špičko', 'Davorin'], ['Pavlović', 'Milan'], ['Pušec', 'Senko'], ['Aleksić', 'Filip'], ['Tomašković', 'Roman'], ['Čačić', 'Peđa'], ['Poslončec', 'Saša'], ['Zebić', 'Mislav'], ['Žonja', 'Ian'], ['Cundić', 'Tomislav'], ['Kaniški', 'Matija'], ['Šestak', 'Petar'], ['Završki', 'Ivana'], ['Vađunec', 'Vedran'], ['Bodulušić', 'Matea'], ['Danzante', 'Andrea']]\n"
     ]
    }
   ],
   "source": [
    "P=[ sredi(ime) for ime in M]\n",
    "print(P)"
   ]
  },
  {
   "cell_type": "code",
   "execution_count": 14,
   "metadata": {
    "collapsed": false
   },
   "outputs": [
    {
     "name": "stdout",
     "output_type": "stream",
     "text": [
      "['Josip Mlakar', 'Elvis Popović', 'Vladimir Milašinović', 'Filip Rafajec', 'Matej Gucek', 'Jura Šolja', 'Gabrijela Grgača', 'Stjepan Rakarec', 'Davorin Špičko', 'Milan Pavlović', 'Senko Pušec', 'Filip Aleksić', 'Roman Tomašković', 'Peđa Čačić', 'Saša Poslončec', 'Mislav Zebić', 'Ian Žonja', 'Tomislav Cundić', 'Matija Kaniški', 'Petar Šestak', 'Ivana Završki', 'Vedran Vađunec', 'Matea Bodulušić', 'Andrea Danzante']\n"
     ]
    }
   ],
   "source": [
    "#regex izbacivanje zareza\n",
    "import re\n",
    "\n",
    "L1=[]\n",
    "\n",
    "for x in M:\n",
    "    # * znači nula ili više, a + znači 1 ili više\n",
    "    # treba nam 0 ili više ako je prvi red prazan, dakle nula\n",
    "    # dosta je i 1 ili više jer smo prvi prazan red izbacili\n",
    "    m=re.match(r'[^\\,]*',x)\n",
    "#    print(m.group(0))\n",
    "    L1.append(m.group(0))\n",
    "\n",
    "L2=[ime for ime in L1]\n",
    "\n",
    "print(L2)\n"
   ]
  },
  {
   "cell_type": "code",
   "execution_count": 15,
   "metadata": {
    "collapsed": false
   },
   "outputs": [
    {
     "name": "stdout",
     "output_type": "stream",
     "text": [
      "[['Mlakar', 'Josip'], ['Popović', 'Elvis'], ['Milašinović', 'Vladimir'], ['Rafajec', 'Filip'], ['Gucek', 'Matej'], ['Šolja', 'Jura'], ['Grgača', 'Gabrijela'], ['Rakarec', 'Stjepan'], ['Špičko', 'Davorin'], ['Pavlović', 'Milan'], ['Pušec', 'Senko'], ['Aleksić', 'Filip'], ['Tomašković', 'Roman'], ['Čačić', 'Peđa'], ['Poslončec', 'Saša'], ['Zebić', 'Mislav'], ['Žonja', 'Ian'], ['Cundić', 'Tomislav'], ['Kaniški', 'Matija'], ['Šestak', 'Petar'], ['Završki', 'Ivana'], ['Vađunec', 'Vedran'], ['Bodulušić', 'Matea'], ['Danzante', 'Andrea']]\n"
     ]
    }
   ],
   "source": [
    "P=[ sredi(ime) for ime in L2]\n",
    "print(P)"
   ]
  },
  {
   "cell_type": "code",
   "execution_count": 20,
   "metadata": {
    "collapsed": false
   },
   "outputs": [
    {
     "name": "stdout",
     "output_type": "stream",
     "text": [
      "[['Aleksić', 'Filip'], ['Bodulušić', 'Matea'], ['Cundić', 'Tomislav'], ['Danzante', 'Andrea'], ['Grgača', 'Gabrijela'], ['Gucek', 'Matej'], ['Kaniški', 'Matija'], ['Milašinović', 'Vladimir'], ['Mlakar', 'Josip'], ['Pavlović', 'Milan'], ['Popović', 'Elvis'], ['Poslončec', 'Saša'], ['Pušec', 'Senko'], ['Rafajec', 'Filip'], ['Rakarec', 'Stjepan'], ['Tomašković', 'Roman'], ['Vađunec', 'Vedran'], ['Završki', 'Ivana'], ['Zebić', 'Mislav'], ['Čačić', 'Peđa'], ['Šestak', 'Petar'], ['Šolja', 'Jura'], ['Špičko', 'Davorin'], ['Žonja', 'Ian']]\n",
      "[1, 4, 5, 6, 7, 8]\n"
     ]
    }
   ],
   "source": [
    "#sortiranje\n",
    "\n",
    "#kljuc sortiranja\n",
    "f_usp=lambda x:x[1]\n",
    "\n",
    "def sortiranje(X):\n",
    "    #sorted(X,key=f_usp)\n",
    "    return sorted(X,key=lambda x:x[0])\n",
    "\n",
    "print(sortiranje(P))\n",
    "\n",
    "t=[6,5,1,7,8,4]\n",
    "t1=sorted(t)\n",
    "print(t1)\n"
   ]
  },
  {
   "cell_type": "code",
   "execution_count": null,
   "metadata": {
    "collapsed": true
   },
   "outputs": [],
   "source": []
  },
  {
   "cell_type": "code",
   "execution_count": 21,
   "metadata": {
    "collapsed": false
   },
   "outputs": [],
   "source": [
    "from xlwt import Workbook, easyxf\n",
    "wb = Workbook()\n",
    "str=wb.add_sheet('Stranica1')\n",
    "str.write(0,0,'Prezime i ime')\n",
    "str.col(0).width=20*256\n",
    "r=1\n",
    "for i in L2:\n",
    "    str.write(r,0,\"\".join(i))\n",
    "    r+=1\n",
    "wb.save('pywo_izlaz.xls')\n",
    "\n"
   ]
  },
  {
   "cell_type": "code",
   "execution_count": null,
   "metadata": {
    "collapsed": true
   },
   "outputs": [],
   "source": []
  }
 ],
 "metadata": {
  "kernelspec": {
   "display_name": "Python 3",
   "language": "python",
   "name": "python3"
  },
  "language_info": {
   "codemirror_mode": {
    "name": "ipython",
    "version": 3
   },
   "file_extension": ".py",
   "mimetype": "text/x-python",
   "name": "python",
   "nbconvert_exporter": "python",
   "pygments_lexer": "ipython3",
   "version": "3.4.0"
  }
 },
 "nbformat": 4,
 "nbformat_minor": 0
}
