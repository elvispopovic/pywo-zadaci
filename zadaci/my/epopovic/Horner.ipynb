{
 "cells": [
  {
   "cell_type": "code",
   "execution_count": 32,
   "metadata": {
    "collapsed": false
   },
   "outputs": [
    {
     "data": {
      "text/plain": [
       "15"
      ]
     },
     "execution_count": 32,
     "metadata": {},
     "output_type": "execute_result"
    }
   ],
   "source": [
    "def horner_f(x,*args):\n",
    "    '''racunanje vrijednosti polinoma\n",
    "    hornerovim algoritmom\n",
    "    argumenti: x i niz koeficijenata'''\n",
    "    r=args[0]\n",
    "    for c in args[1:]:\n",
    "        r=x*r+c\n",
    "    return r;\n",
    "horner_f(2,1,2,-4,7)"
   ]
  },
  {
   "cell_type": "code",
   "execution_count": 5,
   "metadata": {
    "collapsed": false
   },
   "outputs": [
    {
     "name": "stdout",
     "output_type": "stream",
     "text": [
      "[1, 4, 4, 15]\n"
     ]
    }
   ],
   "source": [
    "def horner_gen1(x,*args):\n",
    "    #jedan redak hornerovog algoritma\n",
    "    r=args[0]\n",
    "    yield r\n",
    "    for c in args[1:]:\n",
    "        r=x*r+c\n",
    "        yield r\n",
    "Larg=[1,2,-4,7]\n",
    "L=[x for x in horner_gen1(2,*Larg)]\n",
    "print(L)\n"
   ]
  },
  {
   "cell_type": "code",
   "execution_count": 17,
   "metadata": {
    "collapsed": false
   },
   "outputs": [
    {
     "name": "stdout",
     "output_type": "stream",
     "text": [
      "Redovi u hornerovom algoritmu:\n",
      "[1, 4, 4, 15]\n",
      "[1, 6, 16]\n",
      "[1, 8]\n",
      "[1]\n"
     ]
    }
   ],
   "source": [
    "def horner_rows(x,*args):\n",
    "    Lin=[x]+[y for y in args]\n",
    "    while True:\n",
    "        L=[x for x in horner_gen1(*Lin)]\n",
    "        yield L\n",
    "        if(len(L)==1):\n",
    "            break\n",
    "        Lin=[x]+L[:-1]\n",
    "print(\"Redovi u hornerovom algoritmu:\")\n",
    "for x in horner_rows(2,1,2,-4,7):\n",
    "    print(x)"
   ]
  }
 ],
 "metadata": {
  "kernelspec": {
   "display_name": "Python 3",
   "language": "python",
   "name": "python3"
  },
  "language_info": {
   "codemirror_mode": {
    "name": "ipython",
    "version": 3
   },
   "file_extension": ".py",
   "mimetype": "text/x-python",
   "name": "python",
   "nbconvert_exporter": "python",
   "pygments_lexer": "ipython3",
   "version": "3.4.0"
  }
 },
 "nbformat": 4,
 "nbformat_minor": 0
}
