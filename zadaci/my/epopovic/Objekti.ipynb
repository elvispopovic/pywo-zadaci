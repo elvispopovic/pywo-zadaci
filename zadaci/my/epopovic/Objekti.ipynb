{
 "cells": [
  {
   "cell_type": "code",
   "execution_count": 51,
   "metadata": {
    "collapsed": false
   },
   "outputs": [
    {
     "name": "stdout",
     "output_type": "stream",
     "text": [
      "Overwriting ravnina.py\n"
     ]
    }
   ],
   "source": [
    "%%writefile ravnina.py \n",
    "#snimit ce celiju\n",
    "\n",
    "from math import sqrt\n",
    "\n",
    "class Tocka:\n",
    "    '''Opis klase\n",
    "    2D tocke u ravnini\n",
    "    '''\n",
    "    def __init__(self, x,y):\n",
    "        self.x=x\n",
    "        self.y=y\n",
    "    def norm(self):\n",
    "        return sqrt(self.x**2+self.y**2)\n",
    "    def __repr__(self):\n",
    "        return \"Tocka x={0}, y={1}\".format(self.x,self.y)"
   ]
  },
  {
   "cell_type": "code",
   "execution_count": 79,
   "metadata": {
    "collapsed": false
   },
   "outputs": [],
   "source": [
    "from ravnina import Tocka\n",
    "\n",
    "class Vektor(Tocka):\n",
    "    '''\n",
    "    Nasljedjuje klasu tocka\n",
    "    self je vektor, b je vektor\n",
    "    '''\n",
    "    def __add__(self,b):\n",
    "        return Vektor(x=self.x+b.x,y=self.y+b.y)\n",
    "    def __sub__(self,b):\n",
    "        return Vektor(x=self.x-b.x,y=self.y-b.y)\n",
    "    def __mul__(self,b):\n",
    "        return self.x*b.x+self.y*b.y\n",
    "    def __repr__(self):\n",
    "        return \"Vektor x={0}, y={1}\".format(self.x,self.y)"
   ]
  },
  {
   "cell_type": "code",
   "execution_count": 1,
   "metadata": {
    "collapsed": false
   },
   "outputs": [
    {
     "ename": "NameError",
     "evalue": "name 'Vektor' is not defined",
     "output_type": "error",
     "traceback": [
      "\u001b[1;31m---------------------------------------------------------------------------\u001b[0m",
      "\u001b[1;31mNameError\u001b[0m                                 Traceback (most recent call last)",
      "\u001b[1;32m<ipython-input-1-850fb40fe881>\u001b[0m in \u001b[0;36m<module>\u001b[1;34m()\u001b[0m\n\u001b[0;32m      1\u001b[0m \u001b[1;31m#type(Tocka)\u001b[0m\u001b[1;33m\u001b[0m\u001b[1;33m\u001b[0m\u001b[0m\n\u001b[1;32m----> 2\u001b[1;33m \u001b[0mtype\u001b[0m\u001b[1;33m(\u001b[0m\u001b[0mVektor\u001b[0m\u001b[1;33m)\u001b[0m\u001b[1;33m\u001b[0m\u001b[0m\n\u001b[0m",
      "\u001b[1;31mNameError\u001b[0m: name 'Vektor' is not defined"
     ]
    }
   ],
   "source": [
    "type(Tocka)\n",
    "type(Vektor)"
   ]
  },
  {
   "cell_type": "code",
   "execution_count": 93,
   "metadata": {
    "collapsed": false
   },
   "outputs": [
    {
     "name": "stdout",
     "output_type": "stream",
     "text": [
      "<class 'ravnina.Tocka'>\n"
     ]
    }
   ],
   "source": [
    "A=Tocka(1,2)\n",
    "A.norm()**2\n",
    "print(type(A))"
   ]
  },
  {
   "cell_type": "code",
   "execution_count": 92,
   "metadata": {
    "collapsed": false
   },
   "outputs": [
    {
     "name": "stdout",
     "output_type": "stream",
     "text": [
      "<class '__main__.Vektor'>\n",
      "<class '__main__.Vektor'>\n"
     ]
    }
   ],
   "source": [
    "a=Vektor(-1,-3)\n",
    "b=Vektor(1,2)\n",
    "print(type(a))\n"
   ]
  },
  {
   "cell_type": "code",
   "execution_count": 89,
   "metadata": {
    "collapsed": false
   },
   "outputs": [
    {
     "name": "stdout",
     "output_type": "stream",
     "text": [
      "Vektor x=0, y=-1\n"
     ]
    }
   ],
   "source": [
    "c=a+b\n",
    "print(c)"
   ]
  },
  {
   "cell_type": "code",
   "execution_count": 90,
   "metadata": {
    "collapsed": false
   },
   "outputs": [
    {
     "name": "stdout",
     "output_type": "stream",
     "text": [
      "Vektor x=0, y=-1\n"
     ]
    }
   ],
   "source": [
    "c1=a-b\n",
    "print(c)"
   ]
  },
  {
   "cell_type": "code",
   "execution_count": 91,
   "metadata": {
    "collapsed": false
   },
   "outputs": [
    {
     "name": "stdout",
     "output_type": "stream",
     "text": [
      "-7\n"
     ]
    }
   ],
   "source": [
    "c2=a*b\n",
    "print(c2)"
   ]
  }
 ],
 "metadata": {
  "kernelspec": {
   "display_name": "Python 3",
   "language": "python",
   "name": "python3"
  },
  "language_info": {
   "codemirror_mode": {
    "name": "ipython",
    "version": 3
   },
   "file_extension": ".py",
   "mimetype": "text/x-python",
   "name": "python",
   "nbconvert_exporter": "python",
   "pygments_lexer": "ipython3",
   "version": "3.4.0"
  }
 },
 "nbformat": 4,
 "nbformat_minor": 0
}
